{
 "cells": [
  {
   "cell_type": "code",
   "execution_count": null,
   "id": "35892cf9",
   "metadata": {},
   "outputs": [
    {
     "name": "stdout",
     "output_type": "stream",
     "text": [
      "[26456.38793813 27287.08340093 28384.98778463 29932.49391006\n",
      " 31007.76840654 32181.15453723 32238.15725928 35638.42135118\n",
      " 36215.44759073 36547.73895598 36732.03474403 38341.30757041\n",
      " 38992.14838075 41627.12926943 42025.61737306 42404.39373816\n",
      " 45856.62562648 47260.80045844 48210.03311134 48697.83702825\n",
      " 50683.32350972 50922.35802345 51935.60386182 52279.72885136\n",
      " 54209.56383573 55938.2128086  60235.7284917 ]\n"
     ]
    }
   ],
   "source": [
    "import numpy as np\n",
    "import matplotlib.pyplot as plt\n",
    "import pandas as pd\n",
    "from sklearn.linear_model import LinearRegression\n",
    "\n",
    "\n",
    "data_root = \"https://github.com/ageron/data/raw/main/\"\n",
    "lifesat = pd.read_csv(data_root + \"lifesat/lifesat.csv\")\n",
    "X = lifesat[[\"GDP per capita (USD)\"]]\n",
    "print(X.values)\n",
    "# print(X.head()).values"
   ]
  },
  {
   "cell_type": "code",
   "execution_count": null,
   "id": "635dc6d9",
   "metadata": {},
   "outputs": [],
   "source": [
    "def mean(arr):\n",
    "    length = len(arr)\n",
    "    # print(length)\n",
    "    sum = 0\n",
    "    for a in range(0,length):\n",
    "        sum = sum + arr[a]\n",
    "    mean_val =  sum/length\n",
    "\n",
    "    return mean_val\n",
    "\n",
    "def variance(x):\n",
    "\n",
    "    length = len(x)\n",
    "    mean_value = mean(x)\n",
    "    variance_sum = 0\n",
    "    for a in range(0,length):\n",
    "        variance_sum = variance_sum +(((x[a]) - mean_value)**2)\n",
    "    variance_total =variance_sum/length\n",
    "    return variance_total\n",
    "\n",
    "def covariance(x, y):\n",
    "    if(len(x) != len(y)):\n",
    "        raise ValueError(\"x and y must have the same length\")\n",
    "    length = len(x)\n",
    "    mean_x = mean(x)\n",
    "    mean_y = mean(y)\n",
    "    cov_sum = 0\n",
    "    for i in range(0, length):\n",
    "        cov_sum += (x[i] - mean_x) * (y[i] - mean_y)\n",
    "    return cov_sum / length\n",
    "\n",
    "def slope(x,y):\n",
    "    return covariance(x,y)/variance(x)\n",
    "\n",
    "def intercept(x,y,slope):\n",
    "    return mean(y) - slope * mean(x)\n",
    "\n",
    "def predict(x, slope, intercept):\n",
    "\n",
    "    return slope * x + intercept\n",
    "\n",
    "slope_value = slope(X,y)\n",
    "intercept_value = intercept(X,y,slope_value)\n",
    "\n",
    "print(f\"Slope: {slope_value}\")\n",
    "print(f\"Intercept: {intercept_value}\")\n",
    "\n",
    "new_val = 37_655.2\n",
    "\n",
    "predictions = predict(new_val,slope_value,intercept_value)\n",
    "print(f\"Predictions: {predictions}\")"
   ]
  }
 ],
 "metadata": {
  "kernelspec": {
   "display_name": "env",
   "language": "python",
   "name": "python3"
  },
  "language_info": {
   "codemirror_mode": {
    "name": "ipython",
    "version": 3
   },
   "file_extension": ".py",
   "mimetype": "text/x-python",
   "name": "python",
   "nbconvert_exporter": "python",
   "pygments_lexer": "ipython3",
   "version": "3.12.3"
  }
 },
 "nbformat": 4,
 "nbformat_minor": 5
}
