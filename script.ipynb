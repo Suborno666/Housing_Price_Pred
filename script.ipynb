{
    "cells": [
        {
            "cell_type": "code",
            "execution_count": null,
            "metadata": {
                "id": "ccRet0cT8Gpz"
            },
            "outputs": [],
            "source": [
                "import subprocess\n",
                "import sys\n",
                "\n",
                "def install(package):\n",
                "    subprocess.check_call([sys.executable,\"-m\",\"pip\",\"install\",(package)])\n",
                "\n",
                "def freeze_requirements():\n",
                "    try:\n",
                "        with open('requirements.txt', 'w') as f:\n",
                "            subprocess.check_call([sys.executable, \"-m\", \"pip\", \"freeze\"], stdout=f)\n",
                "    except subprocess.CalledProcessError as e:\n",
                "        print(f\"Failed to freeze requirements: {e}\")"
            ]
        },
        {
            "cell_type": "code",
            "execution_count": null,
            "metadata": {
                "id": "ahlhCNbz8Gp1"
            },
            "outputs": [],
            "source": [
                "packages = [\"numpy\",\"pandas\",\"matplotlib\",\"seaborn\",\"scikit-learn\"]\n",
                "\n",
                "for pkg in packages:\n",
                "    install(pkg)\n",
                "\n",
                "freeze_requirements()"
            ]
        },
        {
            "cell_type": "code",
            "execution_count": null,
            "metadata": {
                "id": "dWeDm5bV8Gp2"
            },
            "outputs": [],
            "source": [
                "import pandas as pd\n",
                "import numpy as np\n",
                "import os\n",
                "\n",
                "PROJECT_ROOT_DIR = \"includes/\"\n",
                "FOLDER_NAME = \"CarPriceDataset_Final\"\n",
                "import_csv_through_url = 'https://raw.githubusercontent.com/Sudipta1975git/Car_Price_dataset/main/CarPriceDataset_Final.csv'\n",
                "HOUSING_PATH = os.path.join(PROJECT_ROOT_DIR+\"datasets\",FOLDER_NAME)\n",
                "os.makedirs(HOUSING_PATH, exist_ok=True)\n",
                "\n",
                "car_price_url = PROJECT_ROOT_DIR+\"datasets\"+FOLDER_NAME+\"\"\n",
                "# df_url = pd.read_csv(import_csv_through_url)\n",
                "\n",
                "# File path to save the downloaded CSV\n",
                "local_csv_path = os.path.join(HOUSING_PATH, \"CarPriceDataset_Final.csv\")\n",
                "df = pd.read_csv(import_csv_through_url)\n",
                "df.to_csv(local_csv_path, index=False)"
            ]
        },
        {
            "cell_type": "code",
            "execution_count": null,
            "metadata": {
                "id": "xE2F2cP68Gp2"
            },
            "outputs": [],
            "source": [
                "data_root = \"https://github.com/ageron/data/raw/main/\"\n",
                "lifesat = pd.read_csv(data_root + \"lifesat/lifesat.csv\")\n",
                "# lifesat.head()\n"
            ]
        },
        {
            "cell_type": "code",
            "execution_count": null,
            "metadata": {
                "id": "BeuFF1A-8Gp2"
            },
            "outputs": [],
            "source": [
                "X = lifesat[[\"GDP per capita (USD)\"]].values\n",
                "y = lifesat[[\"Life satisfaction\"]].values"
            ]
        },
        {
            "cell_type": "code",
            "execution_count": null,
            "metadata": {
                "colab": {
                    "base_uri": "https://localhost:8080/"
                },
                "id": "iNkMrCAg8Gp3",
                "outputId": "75823739-7dd1-44da-a8fe-58770da64613"
            },
            "outputs": [],
            "source": [
                "# X = pd.DataFrame([1,2,3,4,5,6])\n",
                "\n",
                "# y = pd.DataFrame([11,12,13,14,15,16])\n",
                "\n",
                "def mean(arr):\n",
                "    length = len(arr)\n",
                "    # print(length)\n",
                "    sum = 0\n",
                "    for a in range(0,length):\n",
                "        sum = sum + arr[a]\n",
                "    mean_val =  sum/length\n",
                "\n",
                "    return mean_val\n",
                "\n",
                "def variance(x):\n",
                "\n",
                "    length = len(x)\n",
                "    mean_value = mean(x)\n",
                "    variance_sum = 0\n",
                "    for a in range(0,length):\n",
                "        variance_sum = variance_sum +(((x[a]) - mean_value)**2)\n",
                "    variance_total =variance_sum/length\n",
                "    return variance_total\n",
                "\n",
                "def covariance(x, y):\n",
                "    length = len(x)\n",
                "    mean_x = mean(x)\n",
                "    mean_y = mean(y)\n",
                "    cov_sum = 0\n",
                "    for i in range(0, length):\n",
                "        cov_sum += (x[i] - mean_x) * (y[i] - mean_y)\n",
                "    return cov_sum / length\n",
                "\n",
                "def slope(x,y):\n",
                "    return covariance(x,y)/variance(x)\n",
                "\n",
                "def intercept(x,y,slope):\n",
                "    return mean(y) - slope * mean(x)\n",
                "\n",
                "def predict(x, slope, intercept):\n",
                "\n",
                "    return slope * x + intercept\n",
                "\n",
                "slope_value = slope(X,y)\n",
                "intercept_value = intercept(X,y,slope_value)\n",
                "\n",
                "print(f\"Slope: {slope_value}\")\n",
                "print(f\"Intercept: {intercept_value}\")\n",
                "\n",
                "new_val = 37_655.2\n",
                "\n",
                "predictions = predict(new_val,slope_value,intercept_value)\n",
                "print(f\"Predictions: {predictions}\")"
            ]
        },
        {
            "cell_type": "code",
            "execution_count": null,
            "metadata": {
                "colab": {
                    "base_uri": "https://localhost:8080/",
                    "height": 35
                },
                "id": "0KlmgM6_8Gp4",
                "outputId": "19973624-8bf3-4d39-ad17-80c631cff72c"
            },
            "outputs": [],
            "source": [
                "data_root"
            ]
        },
        {
            "cell_type": "code",
            "execution_count": null,
            "metadata": {
                "colab": {
                    "base_uri": "https://localhost:8080/"
                },
                "id": "ncoqfYxD8Gp4",
                "outputId": "f5389680-64b2-4aa5-e6ef-4731cbfeb437"
            },
            "outputs": [],
            "source": [
                "from sklearn.linear_model import LinearRegression\n",
                "\n",
                "model = LinearRegression()\n",
                "model.fit(X,y)\n",
                "\n",
                "new_val = np.array([[new_val]])\n",
                "print(model.predict(new_val))\n"
            ]
        },
        {
            "cell_type": "markdown",
            "metadata": {
                "id": "Lf6adIGM8Gp6"
            },
            "source": [
                "# Hands-On Machine Learning [Chapter: 2]\n",
                "\n",
                "<h5>Housing Complex Datasheet</h5>"
            ]
        },
        {
            "cell_type": "code",
            "execution_count": null,
            "metadata": {
                "id": "JOx1kcrq8Gp7"
            },
            "outputs": [],
            "source": [
                "# Python ≥3.5 is required\n",
                "import sys\n",
                "assert sys.version_info >= (3, 5)\n",
                "\n",
                "# Scikit-Learn ≥0.20 is required\n",
                "import sklearn\n",
                "assert sklearn.__version__ >= \"0.20\"\n",
                "\n",
                "# Common imports\n",
                "import numpy as np\n",
                "import os\n",
                "\n",
                "# To plot pretty figures\n",
                "%matplotlib inline\n",
                "import matplotlib as mpl\n",
                "import matplotlib.pyplot as plt\n",
                "mpl.rc('axes', labelsize=14)\n",
                "mpl.rc('xtick', labelsize=12)\n",
                "mpl.rc('ytick', labelsize=12)\n",
                "\n",
                "# Where to save the figures\n",
                "PROJECT_ROOT_DIR = \"includes/\"\n",
                "CHAPTER_ID = \"end_to_end_project\"\n",
                "IMAGES_PATH = os.path.join(PROJECT_ROOT_DIR, \"images\", CHAPTER_ID)\n",
                "os.makedirs(IMAGES_PATH, exist_ok=True)\n",
                "\n",
                "def save_fig(fig_id, tight_layout=True, fig_extension=\"png\", resolution=300):\n",
                "    path = os.path.join(IMAGES_PATH, fig_id + \".\" + fig_extension)\n",
                "    print(\"Saving figure\", fig_id)\n",
                "    if tight_layout:\n",
                "        plt.tight_layout()\n",
                "    plt.savefig(path, format=fig_extension, dpi=resolution)"
            ]
        },
        {
            "cell_type": "markdown",
            "metadata": {
                "id": "Wx-rqgcs8Gp8"
            },
            "source": [
                "\n",
                "<h3>Get the Data</h3>\n",
                "<h5>Download the Data</h5>"
            ]
        },
        {
            "cell_type": "code",
            "execution_count": null,
            "metadata": {
                "id": "owmgnivO8Gp9"
            },
            "outputs": [],
            "source": [
                "import os\n",
                "import tarfile\n",
                "import urllib.request\n",
                "from pathlib import Path\n",
                "import pandas as pd\n",
                "\n",
                "DOWNLOAD_ROOT = \"https://raw.githubusercontent.com/ageron/handson-ml2/master/\"\n",
                "HOUSING_PATH = os.path.join(PROJECT_ROOT_DIR+\"datasets\", \"housing\")\n",
                "HOUSING_URL = DOWNLOAD_ROOT + \"datasets/housing/housing.tgz\"\n",
                "\n",
                "def fetch_housing_data(housing_url=HOUSING_URL, housing_path=HOUSING_PATH):\n",
                "    if not os.path.isdir(housing_path):\n",
                "        os.makedirs(housing_path)\n",
                "    tgz_path = os.path.join(housing_path, \"housing.tgz\")\n",
                "    urllib.request.urlretrieve(housing_url, tgz_path)\n",
                "    housing_tgz = tarfile.open(tgz_path)\n",
                "    housing_tgz.extractall(path=housing_path)\n",
                "    housing_tgz.close()\n",
                "    return pd.read_csv(Path(PROJECT_ROOT_DIR+\"/datasets/housing/housing.csv\"))\n",
                "\n",
                "housing = fetch_housing_data()"
            ]
        },
        {
            "cell_type": "code",
            "execution_count": null,
            "metadata": {
                "colab": {
                    "base_uri": "https://localhost:8080/",
                    "height": 226
                },
                "id": "l2Gm9KNQ8Gp-",
                "outputId": "a73837ba-57f3-4bae-dcca-65a7f308a135"
            },
            "outputs": [],
            "source": [
                "housing.head()"
            ]
        },
        {
            "cell_type": "code",
            "execution_count": null,
            "metadata": {
                "colab": {
                    "base_uri": "https://localhost:8080/"
                },
                "id": "bOZD0eAC8Gp_",
                "outputId": "74a4b018-2d0f-4a18-9234-934f54d5a1c9"
            },
            "outputs": [],
            "source": [
                "housing.info()"
            ]
        },
        {
            "cell_type": "code",
            "execution_count": null,
            "metadata": {
                "colab": {
                    "base_uri": "https://localhost:8080/",
                    "height": 272
                },
                "id": "Sgq8hcdI8GqA",
                "outputId": "5ae1b5f7-8060-4e8f-f267-94de9a7da086"
            },
            "outputs": [],
            "source": [
                "housing['ocean_proximity'].value_counts()"
            ]
        },
        {
            "cell_type": "code",
            "execution_count": null,
            "metadata": {
                "colab": {
                    "base_uri": "https://localhost:8080/",
                    "height": 300
                },
                "id": "dZYykuvZ8GqB",
                "outputId": "32d68ce1-762f-4ae8-a2e5-625743a5b936"
            },
            "outputs": [],
            "source": [
                "housing.describe()"
            ]
        },
        {
            "cell_type": "code",
            "execution_count": null,
            "metadata": {
                "colab": {
                    "base_uri": "https://localhost:8080/",
                    "height": 703
                },
                "id": "YiHBd2OP8GqB",
                "outputId": "b4c3fa89-1ae3-43ae-9c88-25d9fdbcb61e"
            },
            "outputs": [],
            "source": [
                "import matplotlib.pyplot as plt\n",
                "\n",
                "housing.hist(bins=50,figsize=(12,8))\n",
                "plt.show()"
            ]
        },
        {
            "cell_type": "code",
            "execution_count": null,
            "metadata": {
                "id": "HBv-ZufLzgRo"
            },
            "outputs": [],
            "source": [
                "import numpy as np\n",
                "import pandas as pd\n",
                "\n",
                "def split_train_test(data, test_ratio):\n",
                "    np.random.seed(42)\n",
                "    shuffled_indices = np.random.permutation(len(data))\n",
                "    print(shuffled_indices)\n",
                "    test_set_size = int(len(data) * test_ratio)\n",
                "    test_indices = shuffled_indices[:test_set_size]\n",
                "    train_indices = shuffled_indices[test_set_size:]\n",
                "    return data.iloc[train_indices], data.iloc[test_indices]\n",
                "\n",
                "data = pd.DataFrame({2, 4, 6, 8, 10, 12, 14, 16,18,20,22,24})\n",
                "\n",
                "# Use a valid test ratio (e.g., 0.4 = 40%)\n",
                "training_set, testing_set = split_train_test(data, 0.2)\n",
                "\n",
                "print(\"Training set:\")\n",
                "print(training_set.values.flatten().tolist())\n",
                "print(\"Testing set:\")\n",
                "print(testing_set.values.flatten().tolist())\n",
                "\n",
                "\n",
                "\n"
            ]
        },
        {
            "cell_type": "code",
            "execution_count": null,
            "metadata": {
                "id": "-f2N3o7JE_h9"
            },
            "outputs": [],
            "source": [
                "from zlib import crc32\n",
                "\n",
                "def is_id_in_test_set(identifier, test_ratio):\n",
                "  return crc32(np.int64(identifier)) < test_ratio * 2**32\n",
                "\n",
                "def split_data_with_id_hash(data, test_ratio, id_column):\n",
                "  ids = data[id_column]\n",
                "  in_test_set = ids.apply(lambda id: is_id_in_test_set(id, test_ratio))\n",
                "  return data.loc[~in_test_set], data.loc[in_test_set]\n",
                "\n"
            ]
        },
        {
            "cell_type": "code",
            "execution_count": null,
            "metadata": {
                "colab": {
                    "base_uri": "https://localhost:8080/"
                },
                "id": "6lzEapVGa1ls",
                "outputId": "381b8209-2387-47e0-91ac-4d74c218ca21"
            },
            "outputs": [],
            "source": [
                "housing_with_id = housing.reset_index()\n",
                "train_set, test_set = split_data_with_id_hash(housing_with_id, 0.2, \"index\")\n",
                "\n",
                "print(\"Training length: \",len(train_set))\n",
                "print(\"Test length: \",len(test_set))"
            ]
        },
        {
            "cell_type": "code",
            "execution_count": null,
            "metadata": {
                "colab": {
                    "base_uri": "https://localhost:8080/",
                    "height": 458
                },
                "id": "i7KZtMXQmIfM",
                "outputId": "1376d5f5-c541-4f71-c35f-d7e8ec17b037"
            },
            "outputs": [],
            "source": [
                "housing['income_cat'] = pd.cut(housing['median_income'],bins=[0.,1.5,3.0,4.5,6.,np.inf],labels=[1,2,3,4,5])\n",
                "\n",
                "\n",
                "housing['income_cat'].value_counts().sort_index().plot.bar(rot=0,grid=True)\n",
                "plt.xlabel(\"Income Category\")\n",
                "plt.ylabel(\"Number of Districts\")\n",
                "plt.show()"
            ]
        },
        {
            "cell_type": "code",
            "execution_count": null,
            "metadata": {},
            "outputs": [],
            "source": [
                "housing['income_cat'].value_counts().sort_index()"
            ]
        },
        {
            "cell_type": "code",
            "execution_count": null,
            "metadata": {
                "id": "werG3_bYUFI8"
            },
            "outputs": [],
            "source": [
                "from sklearn.model_selection import StratifiedShuffleSplit\n",
                "from sklearn.model_selection import train_test_split\n",
                "\n",
                "splitter = StratifiedShuffleSplit(n_splits=10,test_size=0.2,random_state=42)\n",
                "strat_splits = []\n",
                "for train_index, test_index in splitter.split(housing,housing['income_cat']):\n",
                "    strat_train_set = housing.loc[train_index]\n",
                "    strat_test_set = housing.loc[test_index]\n",
                "    strat_splits.append((strat_train_set,strat_test_set))\n",
                "strat_train_set, strat_test_set = train_test_split(housing, test_size=0.2, stratify = housing['income_cat'],random_state=42)"
            ]
        },
        {
            "cell_type": "code",
            "execution_count": null,
            "metadata": {
                "colab": {
                    "base_uri": "https://localhost:8080/",
                    "height": 272
                },
                "id": "-J0xQlLwcpme",
                "outputId": "29af476b-83c4-4995-a538-6ae209884715"
            },
            "outputs": [],
            "source": [
                "strat_test_set['income_cat'].value_counts()"
            ]
        },
        {
            "cell_type": "code",
            "execution_count": null,
            "metadata": {},
            "outputs": [],
            "source": [
                "# Check what columns are in your datasets\n",
                "print(\"Columns in housing:\", housing.columns.tolist())\n",
                "print(\"Columns in strat_test_set:\", strat_test_set.columns.tolist())\n",
                "print(\"Shape of strat_test_set:\", strat_test_set.shape)\n",
                "def income_cat_proportions(data):\n",
                "    return data['income_cat'].value_counts()/len(data)\n",
                "\n",
                "# Calculate proportions for each dataset\n",
                "overall_props = income_cat_proportions(housing)\n",
                "stratified_props = income_cat_proportions(strat_test_set)\n",
                "random_props = income_cat_proportions(test_set)\n",
                "\n",
                "# Calculate sampling errors (difference from overall proportions)\n",
                "strat_error = stratified_props - overall_props\n",
                "random_error = random_props - overall_props\n",
                "\n",
                "# Create comparison DataFrame\n",
                "compare_props = pd.DataFrame({\n",
                "    \"Overall %\": overall_props,\n",
                "    \"Stratified %\": stratified_props,\n",
                "    \"Random %\": random_props,\n",
                "    \"Strat. Error %\": strat_error,\n",
                "    \"Random Error %\": random_error\n",
                "}).sort_index()\n",
                "\n",
                "print(compare_props)\n",
                "compare_props"
            ]
        },
        {
            "cell_type": "code",
            "execution_count": null,
            "metadata": {},
            "outputs": [],
            "source": [
                "# Check if income_cat exists, if not create it\n",
                "def ensure_income_cat(data):\n",
                "    if 'income_cat' not in data.columns:\n",
                "        data['income_cat'] = pd.cut(data['median_income'],\n",
                "                                   bins=[0., 1.5, 3.0, 4.5, 6., np.inf],\n",
                "                                   labels=[1, 2, 3, 4, 5])\n",
                "    return data\n",
                "\n",
                "# Apply to all datasets\n",
                "housing = ensure_income_cat(housing)\n",
                "strat_test_set = ensure_income_cat(strat_test_set)\n",
                "test_set = ensure_income_cat(test_set)"
            ]
        },
        {
            "cell_type": "code",
            "execution_count": null,
            "metadata": {
                "id": "PibIvlvqc6-_"
            },
            "outputs": [],
            "source": [
                "# for set_ in (strat_test_set,strat_train_set):\n",
                "#   set_.drop('income_cat',axis=1,inplace=True)"
            ]
        },
        {
            "cell_type": "code",
            "execution_count": null,
            "metadata": {},
            "outputs": [],
            "source": []
        },
        {
            "cell_type": "markdown",
            "metadata": {
                "id": "Is_J22sDkC29"
            },
            "source": [
                "# Create Data Visualization"
            ]
        }
    ],
    "metadata": {
        "colab": {
            "provenance": []
        },
        "kernelspec": {
            "display_name": "env",
            "language": "python",
            "name": "python3"
        },
        "language_info": {
            "codemirror_mode": {
                "name": "ipython",
                "version": 3
            },
            "file_extension": ".py",
            "mimetype": "text/x-python",
            "name": "python",
            "nbconvert_exporter": "python",
            "pygments_lexer": "ipython3",
            "version": "3.12.3"
        }
    },
    "nbformat": 4,
    "nbformat_minor": 0
}
